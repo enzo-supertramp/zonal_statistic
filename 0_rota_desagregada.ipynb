{
 "cells": [
  {
   "cell_type": "markdown",
   "id": "c849bf01",
   "metadata": {},
   "source": [
    "Desagrega as arcos que formam as rotas obtidas via TOMTOM"
   ]
  },
  {
   "cell_type": "code",
   "execution_count": 1,
   "id": "ed0d2b5a",
   "metadata": {},
   "outputs": [],
   "source": [
    "import geopandas\n",
    "import os\n",
    "import shutil\n",
    "from tqdm import tqdm"
   ]
  },
  {
   "cell_type": "markdown",
   "id": "7be5b228",
   "metadata": {},
   "source": [
    "Função a ser aplicada em cada uma das rotas"
   ]
  },
  {
   "cell_type": "code",
   "execution_count": 2,
   "id": "993729a3",
   "metadata": {},
   "outputs": [],
   "source": [
    "def desagregar(rota,shp):\n",
    "    i = 0\n",
    "    j = 1\n",
    "    for k in range(len(shp)):\n",
    "        try: os.mkdir(r\"arcos_desagregados\\\\\"+rota) # Cria pasta para rota\n",
    "        except: pass\n",
    "        shp[i:j].to_file(r\"arcos_desagregados\\\\\"+rota+\"\\\\arco_\"+str(j))\n",
    "        i += 1\n",
    "        j += 1\n",
    "    \n",
    "        "
   ]
  },
  {
   "cell_type": "markdown",
   "id": "07dae8c2",
   "metadata": {},
   "source": [
    "Definição de variáveis e pastas"
   ]
  },
  {
   "cell_type": "code",
   "execution_count": 3,
   "id": "4f0241b3",
   "metadata": {},
   "outputs": [
    {
     "name": "stdout",
     "output_type": "stream",
     "text": [
      "Pasta já Existente\n"
     ]
    }
   ],
   "source": [
    "# Local da pasta raiz das rotas TomTom\n",
    "path = r\"...\\Rotas_TomTom\\rota_blocos\"\n",
    "files = os.listdir(path)[3:]\n",
    "\n",
    "# Cria pasta\n",
    "try:\n",
    "    foldername = \"arcos_desagregados\"\n",
    "    os.mkdir(foldername)\n",
    "except: \n",
    "    print(\"Pasta já Existente\")\n",
    "    \n",
    "# Lista com erros\n",
    "erros = []"
   ]
  },
  {
   "cell_type": "markdown",
   "id": "dbbac3b3",
   "metadata": {},
   "source": [
    "Aplicação em todas as rotas"
   ]
  },
  {
   "cell_type": "code",
   "execution_count": 6,
   "id": "ad1b686a",
   "metadata": {
    "scrolled": false
   },
   "outputs": [
    {
     "name": "stderr",
     "output_type": "stream",
     "text": [
      "100%|████████████████████████████████████████████████████████████████████████████| 1763/1763 [1:03:35<00:00,  2.16s/it]\n"
     ]
    }
   ],
   "source": [
    "for rota in tqdm(files):\n",
    "    try: shp = geopandas.read_file(path+\"\\\\\"+rota+\"\\\\\"+\"viagem_id_\"+rota.split(\"_\")[1]+\"_1\\\\route.shp\")\n",
    "    except: \n",
    "        if rota not in erros: erros.append(rota)\n",
    "        continue\n",
    "    desagregar(rota,shp)\n",
    "    #shutil.rmtree(path+\"\\\\\"+rota+\"\\\\\"+\"viagem_id_\"+rota.split(\"_\")[1]+\"_1\")\n",
    "    \n",
    "    "
   ]
  }
 ],
 "metadata": {
  "kernelspec": {
   "display_name": "Python [conda env:venv]",
   "language": "python",
   "name": "conda-env-venv-py"
  },
  "language_info": {
   "codemirror_mode": {
    "name": "ipython",
    "version": 3
   },
   "file_extension": ".py",
   "mimetype": "text/x-python",
   "name": "python",
   "nbconvert_exporter": "python",
   "pygments_lexer": "ipython3",
   "version": "3.8.11"
  }
 },
 "nbformat": 4,
 "nbformat_minor": 5
}
